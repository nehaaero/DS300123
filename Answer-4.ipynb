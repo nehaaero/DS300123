{
 "cells": [
  {
   "cell_type": "code",
   "execution_count": 11,
   "id": "ab559c6b",
   "metadata": {},
   "outputs": [
    {
     "name": "stdout",
     "output_type": "stream",
     "text": [
      "y\n"
     ]
    }
   ],
   "source": [
    "def first_non_repeating_character(my_string):\n",
    "    chars = {}\n",
    "    for i in my_string:\n",
    "        if chars.get(i):\n",
    "            chars[i]+=1\n",
    "        else:\n",
    "            chars[i]=1\n",
    "    for i in my_string:\n",
    "        if chars[i]==1:\n",
    "            return i\n",
    "    return none\n",
    "my_string = \"pythonprogram\"\n",
    "print(first_non_repeating_character(my_string))\n",
    "\n"
   ]
  },
  {
   "cell_type": "code",
   "execution_count": null,
   "id": "9534ecc4",
   "metadata": {},
   "outputs": [],
   "source": []
  }
 ],
 "metadata": {
  "kernelspec": {
   "display_name": "Python 3 (ipykernel)",
   "language": "python",
   "name": "python3"
  },
  "language_info": {
   "codemirror_mode": {
    "name": "ipython",
    "version": 3
   },
   "file_extension": ".py",
   "mimetype": "text/x-python",
   "name": "python",
   "nbconvert_exporter": "python",
   "pygments_lexer": "ipython3",
   "version": "3.11.1"
  }
 },
 "nbformat": 4,
 "nbformat_minor": 5
}
