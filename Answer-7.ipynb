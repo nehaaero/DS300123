{
 "cells": [
  {
   "cell_type": "code",
   "execution_count": 2,
   "id": "40f8afd4",
   "metadata": {},
   "outputs": [
    {
     "name": "stdout",
     "output_type": "stream",
     "text": [
      "((A + B) * (124 - D))\n"
     ]
    }
   ],
   "source": [
    "from collections import deque\n",
    "\n",
    "\n",
    "def prefix_to_infix(expr):\n",
    "    operators={'^', '*', '/', '%', '+', '-'}\n",
    "    expr = expr.split(\" \")\n",
    "    stack=deque()\n",
    "    \n",
    "    for i in range(len(expr)-1, -1, -1):\n",
    "        symbol=expr[i]\n",
    "        if symbol in operators:\n",
    "            subexpr=f\"({stack.pop()} {symbol} {stack.pop()})\"\n",
    "            stack.append(subexpr)\n",
    "        else:\n",
    "            stack.append(symbol)\n",
    "    return stack.pop()\n",
    "\n",
    "\n",
    "prefix =  \"* + A B - 124 D\"\n",
    "infix = prefix_to_infix(prefix)\n",
    "print(infix)"
   ]
  },
  {
   "cell_type": "code",
   "execution_count": null,
   "id": "6dce06cd",
   "metadata": {},
   "outputs": [],
   "source": []
  }
 ],
 "metadata": {
  "kernelspec": {
   "display_name": "Python 3 (ipykernel)",
   "language": "python",
   "name": "python3"
  },
  "language_info": {
   "codemirror_mode": {
    "name": "ipython",
    "version": 3
   },
   "file_extension": ".py",
   "mimetype": "text/x-python",
   "name": "python",
   "nbconvert_exporter": "python",
   "pygments_lexer": "ipython3",
   "version": "3.11.1"
  }
 },
 "nbformat": 4,
 "nbformat_minor": 5
}
