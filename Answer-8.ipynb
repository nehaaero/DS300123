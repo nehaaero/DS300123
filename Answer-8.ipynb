{
 "cells": [
  {
   "cell_type": "code",
   "execution_count": 3,
   "id": "d791e0e5",
   "metadata": {},
   "outputs": [
    {
     "name": "stdout",
     "output_type": "stream",
     "text": [
      "code don`t have valid parenthesis\n"
     ]
    }
   ],
   "source": [
    " def check(str):\n",
    "    stack=[]\n",
    "    for i in str:\n",
    "        if i in '{[(':\n",
    "            stack.append(i)\n",
    "        elif i in '})]':\n",
    "            if stack:\n",
    "                return False\n",
    "            elif i ==')' and stack[-1] != '(':\n",
    "                return False \n",
    "            elif i ==']' and stack[-1] != '[':                \n",
    "                return False\n",
    "            elif i == '}' and stack[-1] != '{':\n",
    "                return False\n",
    "    if stack:\n",
    "        return False\n",
    "    return True\n",
    "\n",
    "\n",
    "str=\"[]{(())}\"\n",
    "if check(str):\n",
    "    print(\"code has valid parenthesis\")\n",
    "else:\n",
    "    print(\"code don`t have valid parenthesis\")"
   ]
  },
  {
   "cell_type": "code",
   "execution_count": null,
   "id": "dcc8a5f6",
   "metadata": {},
   "outputs": [],
   "source": []
  }
 ],
 "metadata": {
  "kernelspec": {
   "display_name": "Python 3 (ipykernel)",
   "language": "python",
   "name": "python3"
  },
  "language_info": {
   "codemirror_mode": {
    "name": "ipython",
    "version": 3
   },
   "file_extension": ".py",
   "mimetype": "text/x-python",
   "name": "python",
   "nbconvert_exporter": "python",
   "pygments_lexer": "ipython3",
   "version": "3.11.1"
  }
 },
 "nbformat": 4,
 "nbformat_minor": 5
}
