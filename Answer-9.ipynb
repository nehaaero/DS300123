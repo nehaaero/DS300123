{
 "cells": [
  {
   "cell_type": "code",
   "execution_count": 3,
   "id": "bc3248da",
   "metadata": {},
   "outputs": [
    {
     "name": "stdout",
     "output_type": "stream",
     "text": [
      "enter no. of elements:5\n",
      "enter element: 1\n",
      "enter element: 2\n",
      "enter element: 3\n",
      "enter element: 4\n",
      "enter element: 5\n",
      "Orginal stack is :  ['1', '2', '3', '4', '5']\n",
      "reversed stack is :  ['5', '4', '3', '2', '1']\n"
     ]
    }
   ],
   "source": [
    "stack=[]\n",
    "\n",
    "n=int(input(\"enter no. of elements:\"))\n",
    "for i in range(n):\n",
    "    val=input(\"enter element: \")\n",
    "    stack.append(val)\n",
    "print(\"Orginal stack is : \",stack)\n",
    "revstack=[]\n",
    "while stack:\n",
    "    val=stack.pop()\n",
    "    revstack.append(val)\n",
    "\n",
    "stack=revstack\n",
    "print(\"reversed stack is : \",stack)"
   ]
  },
  {
   "cell_type": "code",
   "execution_count": null,
   "id": "e61133a2",
   "metadata": {},
   "outputs": [],
   "source": []
  },
  {
   "cell_type": "code",
   "execution_count": null,
   "id": "6eaf28e3",
   "metadata": {},
   "outputs": [],
   "source": []
  },
  {
   "cell_type": "code",
   "execution_count": null,
   "id": "d1c9f051",
   "metadata": {},
   "outputs": [],
   "source": []
  },
  {
   "cell_type": "code",
   "execution_count": null,
   "id": "09a68663",
   "metadata": {},
   "outputs": [],
   "source": []
  },
  {
   "cell_type": "code",
   "execution_count": null,
   "id": "0ff1bfcd",
   "metadata": {},
   "outputs": [],
   "source": []
  }
 ],
 "metadata": {
  "kernelspec": {
   "display_name": "Python 3 (ipykernel)",
   "language": "python",
   "name": "python3"
  },
  "language_info": {
   "codemirror_mode": {
    "name": "ipython",
    "version": 3
   },
   "file_extension": ".py",
   "mimetype": "text/x-python",
   "name": "python",
   "nbconvert_exporter": "python",
   "pygments_lexer": "ipython3",
   "version": "3.11.1"
  }
 },
 "nbformat": 4,
 "nbformat_minor": 5
}
