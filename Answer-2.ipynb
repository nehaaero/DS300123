{
 "cells": [
  {
   "cell_type": "code",
   "execution_count": 4,
   "id": "68fa1bfd",
   "metadata": {},
   "outputs": [
    {
     "name": "stdout",
     "output_type": "stream",
     "text": [
      "Enter n5\n",
      "6\n",
      "1\n",
      "9\n",
      "3\n",
      "1\n",
      "[1, 3, 9, 1, 6]\n"
     ]
    }
   ],
   "source": [
    "def rev(t):\n",
    "    n = len(t)\n",
    "    i=0\n",
    "    j=n-1\n",
    "    while i<j:\n",
    "        tp=t[i]\n",
    "        t[i]=t[j]\n",
    "        t[j]=tp\n",
    "        i+=1\n",
    "        j-=1\n",
    "        \n",
    "n = int(input(\"Enter n\"))\n",
    "list = []\n",
    "for i in range(0,n):\n",
    "    list.append(int(input()))\n",
    "rev(list)\n",
    "print(list)\n",
    "        \n",
    "        "
   ]
  },
  {
   "cell_type": "markdown",
   "id": "9628ae52",
   "metadata": {},
   "source": []
  }
 ],
 "metadata": {
  "kernelspec": {
   "display_name": "Python 3 (ipykernel)",
   "language": "python",
   "name": "python3"
  },
  "language_info": {
   "codemirror_mode": {
    "name": "ipython",
    "version": 3
   },
   "file_extension": ".py",
   "mimetype": "text/x-python",
   "name": "python",
   "nbconvert_exporter": "python",
   "pygments_lexer": "ipython3",
   "version": "3.11.1"
  }
 },
 "nbformat": 4,
 "nbformat_minor": 5
}
