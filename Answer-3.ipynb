{
 "cells": [
  {
   "cell_type": "code",
   "execution_count": 1,
   "id": "e48fccc1",
   "metadata": {},
   "outputs": [
    {
     "name": "stdout",
     "output_type": "stream",
     "text": [
      "neha is matching with hane\n"
     ]
    }
   ],
   "source": [
    "def checkrotation(str1, str2):\n",
    "    if (len(str1)!=(len(str2))):\n",
    "        return False\n",
    "    size= len(str1)\n",
    "    s= str1+str1\n",
    "    if (str2 in s):\n",
    "        print(str1, \"is matching with\", str2)\n",
    "    else:\n",
    "        print(str1, \"is not matching with\", str2)\n",
    "checkrotation(\"neha\", \"hane\")"
   ]
  },
  {
   "cell_type": "code",
   "execution_count": null,
   "id": "02b7ba34",
   "metadata": {},
   "outputs": [],
   "source": []
  }
 ],
 "metadata": {
  "kernelspec": {
   "display_name": "Python 3 (ipykernel)",
   "language": "python",
   "name": "python3"
  },
  "language_info": {
   "codemirror_mode": {
    "name": "ipython",
    "version": 3
   },
   "file_extension": ".py",
   "mimetype": "text/x-python",
   "name": "python",
   "nbconvert_exporter": "python",
   "pygments_lexer": "ipython3",
   "version": "3.11.1"
  }
 },
 "nbformat": 4,
 "nbformat_minor": 5
}
