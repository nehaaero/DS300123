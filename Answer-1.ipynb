{
 "cells": [
  {
   "cell_type": "code",
   "execution_count": 1,
   "id": "d7c8657b",
   "metadata": {},
   "outputs": [
    {
     "name": "stdout",
     "output_type": "stream",
     "text": [
      "value of pair are 8 & 9\n"
     ]
    }
   ],
   "source": [
    "def two_sum(arr, sum):\n",
    "    arr.sort()\n",
    "    left=0\n",
    "    right= (len(arr)-1)\n",
    "    while (left<=right):\n",
    "        if (arr[left]+arr[right]>sum):\n",
    "            right=right-1\n",
    "        elif (arr[left]+arr[right]<sum):\n",
    "            left=left+1\n",
    "        elif (arr[left]+arr[right]==sum):\n",
    "            print(\"value of pair are\", arr[left], \"&\", arr[right])\n",
    "            right=right-1\n",
    "            left=left+1\n",
    "\n",
    "arr = [5, 7, 4, 3, 9, 8, 19, 21]\n",
    "sum=17\n",
    "two_sum(arr, sum)\n"
   ]
  },
  {
   "cell_type": "code",
   "execution_count": null,
   "id": "d2f6bfde",
   "metadata": {},
   "outputs": [],
   "source": []
  }
 ],
 "metadata": {
  "kernelspec": {
   "display_name": "Python 3 (ipykernel)",
   "language": "python",
   "name": "python3"
  },
  "language_info": {
   "codemirror_mode": {
    "name": "ipython",
    "version": 3
   },
   "file_extension": ".py",
   "mimetype": "text/x-python",
   "name": "python",
   "nbconvert_exporter": "python",
   "pygments_lexer": "ipython3",
   "version": "3.11.1"
  }
 },
 "nbformat": 4,
 "nbformat_minor": 5
}
