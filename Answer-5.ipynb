{
 "cells": [
  {
   "cell_type": "code",
   "execution_count": 2,
   "id": "0af9aa89",
   "metadata": {},
   "outputs": [
    {
     "name": "stdout",
     "output_type": "stream",
     "text": [
      "move disk 1 from rodA to rodc\n",
      "move disk2 from rodA to rodb\n",
      "move disk 1 from rodc to rodb\n",
      "move disk3 from rodA to rodc\n",
      "move disk 1 from rodb to rodA\n",
      "move disk2 from rodb to rodc\n",
      "move disk 1 from rodA to rodc\n"
     ]
    }
   ],
   "source": [
    "def TOH(numbers, start, aux, end):\n",
    "    if numbers == 1:\n",
    "        print(\"move disk 1 from rod{} to rod{}\".format(start, end))\n",
    "        return\n",
    "    TOH(numbers-1, start, end, aux)\n",
    "    print(\"move disk{} from rod{} to rod{}\".format(numbers, start, end))\n",
    "    TOH(numbers-1, aux, start, end)\n",
    "disc = 3\n",
    "TOH(disc, \"A\", \"b\", \"c\")\n",
    "    "
   ]
  },
  {
   "cell_type": "code",
   "execution_count": null,
   "id": "e58db0dd",
   "metadata": {},
   "outputs": [],
   "source": []
  }
 ],
 "metadata": {
  "kernelspec": {
   "display_name": "Python 3 (ipykernel)",
   "language": "python",
   "name": "python3"
  },
  "language_info": {
   "codemirror_mode": {
    "name": "ipython",
    "version": 3
   },
   "file_extension": ".py",
   "mimetype": "text/x-python",
   "name": "python",
   "nbconvert_exporter": "python",
   "pygments_lexer": "ipython3",
   "version": "3.11.1"
  }
 },
 "nbformat": 4,
 "nbformat_minor": 5
}
