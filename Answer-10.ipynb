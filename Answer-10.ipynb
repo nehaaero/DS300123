{
 "cells": [
  {
   "cell_type": "code",
   "execution_count": 1,
   "id": "74255e68",
   "metadata": {},
   "outputs": [
    {
     "name": "stdout",
     "output_type": "stream",
     "text": [
      "enter no. of elements:5\n",
      "enter element :9\n",
      "enter element :8\n",
      "enter element :7\n",
      "enter element :6\n",
      "enter element :5\n",
      "min value in stack is : 5\n"
     ]
    }
   ],
   "source": [
    "stack=[]\n",
    "minStack=[]\n",
    "n=int(input(\"enter no. of elements:\"))\n",
    "for i in range(n):\n",
    "    val=input(\"enter element :\")\n",
    "    stack.append(val)\n",
    "\n",
    "minStack.append(stack.pop())\n",
    "\n",
    "while stack:\n",
    "    val=stack.pop()\n",
    "    val2=minStack[-1]\n",
    "    if val2 > val:\n",
    "        minStack.append(val)\n",
    "\n",
    "print(\"min value in stack is :\",minStack[-1])"
   ]
  },
  {
   "cell_type": "code",
   "execution_count": null,
   "id": "ff3b2c41",
   "metadata": {},
   "outputs": [],
   "source": []
  }
 ],
 "metadata": {
  "kernelspec": {
   "display_name": "Python 3 (ipykernel)",
   "language": "python",
   "name": "python3"
  },
  "language_info": {
   "codemirror_mode": {
    "name": "ipython",
    "version": 3
   },
   "file_extension": ".py",
   "mimetype": "text/x-python",
   "name": "python",
   "nbconvert_exporter": "python",
   "pygments_lexer": "ipython3",
   "version": "3.11.1"
  }
 },
 "nbformat": 4,
 "nbformat_minor": 5
}
